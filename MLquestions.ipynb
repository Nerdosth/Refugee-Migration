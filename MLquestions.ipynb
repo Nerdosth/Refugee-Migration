{
 "cells": [
  {
   "attachments": {},
   "cell_type": "markdown",
   "metadata": {},
   "source": [
    "Is there a relationship between conflict and disaster deaths and the number of refugees seeking asylum in a given year?"
   ]
  },
  {
   "cell_type": "markdown",
   "metadata": {},
   "source": [
    "Can we predict how many refugees will result from conflict and disaster deaths? "
   ]
  },
  {
   "cell_type": "code",
   "execution_count": null,
   "metadata": {},
   "outputs": [],
   "source": [
    "import pandas as pd\n",
    "from sklearn.linear_model import LinearRegression\n",
    "\n",
    "# load the data into a pandas DataFrame\n",
    "df_refugees = pd.read_csv('refugees_data.csv')\n",
    "df_deaths = pd.read_csv('deaths_data.csv')\n",
    "\n",
    "# merge the two datasets on the year and country columns\n",
    "df_merged = pd.merge(df_refugees, df_deaths, on=['year', 'country'])\n",
    "\n",
    "# select the relevant columns for analysis\n",
    "X = df_merged[['conflict_deaths', 'disaster_deaths']]\n",
    "y = df_merged['total_refugee']\n",
    "\n",
    "# fit a linear regression model to predict the number of refugees based on deaths data\n",
    "model = LinearRegression().fit(X, y)\n",
    "\n",
    "# use the model to predict the number of refugees based on deaths data for a new set of inputs\n",
    "new_X = [[10000, 5000]] # example input with 10000 conflict deaths and 5000 disaster deaths\n",
    "predicted_y = model.predict(new_X)\n",
    "\n",
    "print(predicted_y) # print the predicted number of refugees based on the given input"
   ]
  },
  {
   "attachments": {},
   "cell_type": "markdown",
   "metadata": {},
   "source": [
    "Can we predict the number of refugees seeking asylum based on the number of conflict and disaster deaths in a particular country?"
   ]
  },
  {
   "cell_type": "code",
   "execution_count": null,
   "metadata": {},
   "outputs": [],
   "source": [
    "import matplotlib.pyplot as plt\n",
    "\n",
    "# load the data into a pandas DataFrame\n",
    "df_refugees = pd.read_csv('refugees_data.csv')\n",
    "df_deaths = pd.read_csv('deaths_data.csv')\n",
    "\n",
    "# merge the two datasets on the year and country columns\n",
    "df_merged = pd.merge(df_refugees, df_deaths, on=['year', 'country'])\n",
    "\n",
    "# select the relevant columns for analysis\n",
    "X = df_merged[['female_0to4', 'female_5to11', 'female_12to17', 'female_18to59', 'female_60',\n",
    "               'male_0to4', 'male_5to11', 'male_12to17', 'male_18to59', 'male_60']]\n",
    "y = df_merged['recognized_decisions_asylum']\n",
    "\n",
    "# fit a linear regression model to predict recognized decisions based on demographic data\n",
    "model = LinearRegression().fit(X, y)\n",
    "\n",
    "# calculate the coefficients and intercept of the linear model\n",
    "coef = model.coef_\n",
    "intercept = model.intercept_\n",
    "\n",
    "# plot the coefficients as a bar chart to visualize the relationship between demographics and recognized decisions\n",
    "plt.bar(range(len(coef)), coef)\n",
    "plt.xticks(range(len(coef)), X.columns)\n",
    "plt.xlabel('Demographic Group')\n",
    "plt.ylabel('Coefficient')\n",
    "plt.title('Relationship between Demographics and Recognized Decisions')\n",
    "plt.show()"
   ]
  },
  {
   "attachments": {},
   "cell_type": "markdown",
   "metadata": {},
   "source": [
    "Is there a correlation between the demographics of refugees and the type of conflict or disaster that occurred in their country of origin?"
   ]
  },
  {
   "cell_type": "code",
   "execution_count": null,
   "metadata": {},
   "outputs": [],
   "source": [
    "from sklearn.cluster import KMeans\n",
    "\n",
    "# load the data into a pandas DataFrame\n",
    "df_refugees = pd.read_csv('refugees_data.csv')\n",
    "\n",
    "# select the relevant columns for analysis\n",
    "X = df_refugees[['share_borders', 'total_refugee']]\n",
    "\n",
    "# fit a k-means clustering model to the data\n",
    "model = KMeans(n_clusters=3, random_state=0).fit(X)\n",
    "\n",
    "# add the cluster labels to the original DataFrame\n",
    "df_refugees['cluster'] = model.labels_\n",
    "\n",
    "# plot the clusters on a scatter plot to visualize the relationship between share of borders and total refugees\n",
    "plt.scatter(df_refugees['share_borders'], df_refugees['total_refugee'], c=df_refugees['cluster'])\n",
    "plt.xlabel('Share of Borders')\n",
    "plt.ylabel('Total Refugees')\n",
    "plt.title('K-Means Clustering of Share of Borders and Total Refugees')\n",
    "plt.show()\n"
   ]
  },
  {
   "attachments": {},
   "cell_type": "markdown",
   "metadata": {},
   "source": [
    "Can we identify which conflicts or disasters have the most significant impact on the number of refugees seeking asylum?"
   ]
  },
  {
   "cell_type": "code",
   "execution_count": null,
   "metadata": {},
   "outputs": [],
   "source": [
    "from sklearn.tree import DecisionTreeClassifier\n",
    "from sklearn.model_selection import train_test_split\n",
    "from sklearn.metrics import accuracy_score\n",
    "\n",
    "# load the data into a pandas DataFrame\n",
    "df_refugees = pd.read_csv('refugees_data.csv')\n",
    "\n",
    "# select the relevant columns for analysis\n",
    "X = df_refugees[['share_borders', 'total_refugee', 'conflict_deaths', 'disaster_deaths']]\n",
    "y = df_refugees['recognized_decisions_asylum']\n",
    "\n",
    "# split the data into training and testing sets\n",
    "X_train, X_test, y_train, y_test = train_test_split(X, y, test_size=0.3, random_state=42)\n",
    "\n",
    "# fit a decision tree classifier to the training data\n",
    "model = DecisionTreeClassifier(max_depth=3).fit(X_train, y_train)\n",
    "\n",
    "# make predictions on the test data\n",
    "y_pred = model.predict(X_test)\n",
    "\n",
    "# calculate the accuracy of the model\n",
    "accuracy = accuracy_score(y_test, y_pred)\n",
    "\n",
    "# visualize the decision tree\n",
    "from sklearn.tree import plot_tree\n",
    "plt.figure(figsize=(20, 10))\n",
    "plot_tree(model, feature_names=X.columns, class_names=['Not Recognized', 'Recognized'])\n",
    "plt.show()"
   ]
  },
  {
   "attachments": {},
   "cell_type": "markdown",
   "metadata": {},
   "source": [
    "Can we build a model to predict the number of conflict and disaster deaths in a particular country in a given year based on demographic and geographic data?"
   ]
  },
  {
   "cell_type": "code",
   "execution_count": null,
   "metadata": {},
   "outputs": [],
   "source": [
    "\n",
    "# load the data into a pandas DataFrame\n",
    "df_refugees = pd.read_csv('refugees_data.csv')\n",
    "\n",
    "# select the relevant columns for analysis\n",
    "X = df_refugees[['conflict_deaths', 'disaster_deaths']]\n",
    "y = df_refugees['total_refugee']\n",
    "\n",
    "# fit a linear regression model to the data\n",
    "model = LinearRegression().fit(X, y)\n",
    "\n",
    "# print the coefficients and intercept of the model\n",
    "print(f\"Coefficients: {model.coef_}\")\n",
    "print(f\"Intercept: {model.intercept_}\")\n",
    "\n",
    "# plot the data and the line of best fit\n",
    "plt.scatter(X['conflict_deaths'], y, color='blue', label='Conflict Deaths')\n",
    "plt.scatter(X['disaster_deaths'], y, color='red', label='Disaster Deaths')\n",
    "plt.plot(X, model.predict(X), color='black', linewidth=3, label='Line of Best Fit')\n",
    "plt.xlabel('Deaths')\n",
    "plt.ylabel('Total Refugees')\n",
    "plt.legend()\n",
    "plt.show()"
   ]
  },
  {
   "attachments": {},
   "cell_type": "markdown",
   "metadata": {},
   "source": [
    "Can we build a model to predict the number of conflict and disaster deaths in a particular country in a given year based on demographic and geographic data?"
   ]
  },
  {
   "cell_type": "code",
   "execution_count": null,
   "metadata": {},
   "outputs": [],
   "source": [
    "\n",
    "# load the data into a pandas DataFrame\n",
    "df_refugees = pd.read_csv('refugees_data.csv')\n",
    "\n",
    "# select the relevant columns for analysis\n",
    "X = df_refugees[['total_refugee', 'conflict_deaths', 'disaster_deaths']]\n",
    "y = df_refugees['recognized_decisions_asylum']\n",
    "\n",
    "# fit a linear regression model to the data\n",
    "model = LinearRegression().fit(X, y)\n",
    "\n",
    "# extract the coefficients of the model\n",
    "coefficients = model.coef_\n",
    "\n",
    "# calculate the feature importance scores\n",
    "feature_importance = abs(coefficients) / abs(coefficients).sum()\n",
    "\n",
    "# create a bar chart of the feature importance scores\n",
    "plt.bar(X.columns, feature_importance)\n",
    "plt.xlabel('Feature')\n",
    "plt.ylabel('Importance Score')\n",
    "plt.title('Feature Importance Scores')\n",
    "plt.show()\n"
   ]
  },
  {
   "attachments": {},
   "cell_type": "markdown",
   "metadata": {},
   "source": [
    "Is there a relationship between the outcome of asylum applications and the number of conflict or disaster deaths in the country of origin?"
   ]
  },
  {
   "cell_type": "code",
   "execution_count": null,
   "metadata": {},
   "outputs": [],
   "source": [
    "from sklearn.preprocessing import StandardScaler\n",
    "\n",
    "# load the data into a pandas DataFrame\n",
    "df_refugees = pd.read_csv('refugees_data.csv')\n",
    "\n",
    "# select the relevant columns for analysis\n",
    "X = df_refugees[['total_refugee', 'recognized_decisions_asylum', 'complementary_protection_asylum', 'rejected_asylum', 'otherwise_closed_asylum']]\n",
    "\n",
    "# standardize the data\n",
    "scaler = StandardScaler()\n",
    "X_std = scaler.fit_transform(X)\n",
    "\n",
    "# fit a k-means clustering model to the data\n",
    "kmeans = KMeans(n_clusters=4, random_state=42)\n",
    "kmeans.fit(X_std)\n",
    "\n",
    "# add the cluster labels to the DataFrame\n",
    "df_refugees['cluster'] = kmeans.labels_\n",
    "\n",
    "# create a scatter plot of the clusters\n",
    "plt.scatter(df_refugees['total_refugee'], df_refugees['recognized_decisions_asylum'], c=df_refugees['cluster'])\n",
    "plt.xlabel('Total Refugees')\n",
    "plt.ylabel('Recognized Decisions Asylum')\n",
    "plt.title('K-Means Clustering')\n",
    "plt.show()"
   ]
  },
  {
   "cell_type": "code",
   "execution_count": null,
   "metadata": {},
   "outputs": [],
   "source": []
  }
 ],
 "metadata": {
  "kernelspec": {
   "display_name": "PythonDataOne",
   "language": "python",
   "name": "python3"
  },
  "language_info": {
   "name": "python",
   "version": "3.7.7"
  },
  "orig_nbformat": 4
 },
 "nbformat": 4,
 "nbformat_minor": 2
}
