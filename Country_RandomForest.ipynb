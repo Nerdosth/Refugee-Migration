{
 "cells": [
  {
   "cell_type": "code",
   "execution_count": 1,
   "metadata": {},
   "outputs": [],
   "source": [
    "#loading and transforming data: \n",
    "import pandas as pd\n",
    "refugee_df = pd.read_csv('Resources/demographic_ml_df.csv')\n",
    "\n",
    "#preprocessing data: \n",
    "from sklearn.preprocessing import OneHotEncoder\n",
    "from sklearn.model_selection import train_test_split\n",
    "\n",
    "#building models:\n",
    "from sklearn.ensemble import RandomForestClassifier \n",
    "\n",
    "#evaluate models: \n",
    "from sklearn.model_selection import GridSearchCV\n",
    "\n",
    "#displaying models:\n",
    "import matplotlib.pyplot as plt"
   ]
  },
  {
   "cell_type": "code",
   "execution_count": 2,
   "metadata": {},
   "outputs": [
    {
     "name": "stdout",
     "output_type": "stream",
     "text": [
      "There are 61199 rows and 26 columns.\n",
      "\n"
     ]
    }
   ],
   "source": [
    "rows_and_cols = refugee_df.shape\n",
    "print('There are {} rows and {} columns.\\n'.format(\n",
    "    rows_and_cols[0], rows_and_cols[1]))"
   ]
  },
  {
   "cell_type": "code",
   "execution_count": 72,
   "metadata": {},
   "outputs": [],
   "source": [
    "#drop rows that for countries that do not report demographic data. \n",
    "\n",
    "r_df = refugee_df.loc[(refugee_df['Male total'] != 0) | (refugee_df['Female total'] != 0)].reset_index()\n",
    "r_df.drop(['index','Male total','Unnamed: 0', 'Female total'], axis=1, inplace=True)\n",
    "r_df.reset_index(drop=True, inplace=True)\n",
    "r_df = r_df.rename(columns={'total': 'total_refugees'})"
   ]
  },
  {
   "cell_type": "code",
   "execution_count": 94,
   "metadata": {},
   "outputs": [],
   "source": [
    "# Split the data into features (X) and target (y)\n",
    "X = r_df.drop('country_asylum', axis=1)\n",
    "y = r_df['country_asylum']\n",
    "\n",
    "# One hot encode the categorical features\n",
    "cat_features = ['country_origin']\n",
    "encoder = OneHotEncoder(handle_unknown='ignore')\n",
    "encoder.fit(X[cat_features])\n",
    "X_encoded = encoder.transform(X[cat_features])\n",
    "\n",
    "# Concatenate the encoded features with the numerical features\n",
    "num_features = ['share_borders', 'total_refugees','recognized_decisions', 'complementary_protection', 'rejected','otherwise_closed', 'total_decisions', 'female_0to4','female_5to11','female_12to17','female_18to59','female_60','female_other','male_0to4','male_5to11','male_12to17','male_18to59','male_60','male_other','unknown_demographic']\n",
    "X_num = X[num_features].values\n",
    "X_encoded = pd.DataFrame(X_encoded.toarray(), columns=encoder.get_feature_names_out(cat_features))\n",
    "X_processed = pd.concat([pd.DataFrame(X_num, columns=num_features), X_encoded], axis=1)\n",
    "X_processed.fillna(0, inplace=True)\n",
    "# Split the data into training and testing sets\n",
    "X_train, X_test, y_train, y_test = train_test_split(X_processed, y, test_size=0.3, random_state=42)"
   ]
  },
  {
   "cell_type": "code",
   "execution_count": 96,
   "metadata": {},
   "outputs": [
    {
     "name": "stdout",
     "output_type": "stream",
     "text": [
      "['Sierra Leone' 'Sudan' 'Zimbabwe' ... 'Malaysia' 'Switzerland' 'Turkey']\n"
     ]
    }
   ],
   "source": [
    "# Create a random forest classifier with 100 trees\n",
    "rf_clf = RandomForestClassifier(n_estimators=100, random_state=42)\n",
    "\n",
    "# Train the classifier on the training data\n",
    "rf_clf.fit(X_train, y_train)\n",
    "\n",
    "# Make predictions on the testing data\n",
    "y_pred = rf_clf.predict(X_test)\n",
    "\n",
    "print(y_pred)"
   ]
  },
  {
   "cell_type": "code",
   "execution_count": 97,
   "metadata": {},
   "outputs": [
    {
     "name": "stdout",
     "output_type": "stream",
     "text": [
      "Accuracy: 0.5822944069541347\n"
     ]
    }
   ],
   "source": [
    "# Evaluate the accuracy of the model\n",
    "accuracy = rf_clf.score(X_test, y_test)\n",
    "print(\"Accuracy:\", accuracy)"
   ]
  }
 ],
 "metadata": {
  "kernelspec": {
   "display_name": "Python 3 (ipykernel)",
   "language": "python",
   "name": "python3"
  },
  "language_info": {
   "codemirror_mode": {
    "name": "ipython",
    "version": 3
   },
   "file_extension": ".py",
   "mimetype": "text/x-python",
   "name": "python",
   "nbconvert_exporter": "python",
   "pygments_lexer": "ipython3",
   "version": "3.7.7"
  }
 },
 "nbformat": 4,
 "nbformat_minor": 2
}
